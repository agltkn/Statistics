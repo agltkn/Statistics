{
 "cells": [
  {
   "cell_type": "code",
   "execution_count": 57,
   "id": "fc5eeee5",
   "metadata": {},
   "outputs": [],
   "source": [
    "import numpy as np"
   ]
  },
  {
   "cell_type": "code",
   "execution_count": 48,
   "id": "3fb48b3e",
   "metadata": {},
   "outputs": [],
   "source": [
    "white = [0,0,0,1,1,3,3,4,7,7]"
   ]
  },
  {
   "cell_type": "code",
   "execution_count": 49,
   "id": "0bddbd22",
   "metadata": {},
   "outputs": [],
   "source": [
    "ozkan = np.array(white)"
   ]
  },
  {
   "cell_type": "code",
   "execution_count": 50,
   "id": "4cca9f67",
   "metadata": {},
   "outputs": [
    {
     "data": {
      "text/plain": [
       "2.0"
      ]
     },
     "execution_count": 50,
     "metadata": {},
     "output_type": "execute_result"
    }
   ],
   "source": [
    "np.median(white)"
   ]
  },
  {
   "cell_type": "code",
   "execution_count": 51,
   "id": "79ef3b15",
   "metadata": {},
   "outputs": [
    {
     "data": {
      "text/plain": [
       "2.6"
      ]
     },
     "execution_count": 51,
     "metadata": {},
     "output_type": "execute_result"
    }
   ],
   "source": [
    "np.mean(white)"
   ]
  },
  {
   "cell_type": "code",
   "execution_count": 52,
   "id": "807d4c4b",
   "metadata": {},
   "outputs": [
    {
     "data": {
      "text/plain": [
       "numpy.ndarray"
      ]
     },
     "execution_count": 52,
     "metadata": {},
     "output_type": "execute_result"
    }
   ],
   "source": [
    "type(ozkan)"
   ]
  },
  {
   "cell_type": "code",
   "execution_count": 53,
   "id": "c8711108",
   "metadata": {},
   "outputs": [
    {
     "data": {
      "text/plain": [
       "array([0, 0, 0, 1, 1, 3, 3, 4, 7, 7])"
      ]
     },
     "execution_count": 53,
     "metadata": {},
     "output_type": "execute_result"
    }
   ],
   "source": [
    "ozkan"
   ]
  },
  {
   "cell_type": "code",
   "execution_count": 54,
   "id": "982a04e3",
   "metadata": {},
   "outputs": [],
   "source": [
    "from scipy import stats"
   ]
  },
  {
   "cell_type": "code",
   "execution_count": 55,
   "id": "a544cfce",
   "metadata": {},
   "outputs": [
    {
     "data": {
      "text/plain": [
       "3.5"
      ]
     },
     "execution_count": 55,
     "metadata": {},
     "output_type": "execute_result"
    }
   ],
   "source": [
    "stats.iqr(ozkan)"
   ]
  },
  {
   "cell_type": "code",
   "execution_count": 56,
   "id": "21e92f5d",
   "metadata": {},
   "outputs": [
    {
     "data": {
      "text/plain": [
       "0.25"
      ]
     },
     "execution_count": 56,
     "metadata": {},
     "output_type": "execute_result"
    }
   ],
   "source": [
    "np.percentile(ozkan, 25)"
   ]
  },
  {
   "cell_type": "code",
   "execution_count": null,
   "id": "40801547",
   "metadata": {},
   "outputs": [],
   "source": []
  },
  {
   "cell_type": "code",
   "execution_count": null,
   "id": "b6b825c4",
   "metadata": {},
   "outputs": [],
   "source": []
  }
 ],
 "metadata": {
  "kernelspec": {
   "display_name": "Python 3 (ipykernel)",
   "language": "python",
   "name": "python3"
  },
  "language_info": {
   "codemirror_mode": {
    "name": "ipython",
    "version": 3
   },
   "file_extension": ".py",
   "mimetype": "text/x-python",
   "name": "python",
   "nbconvert_exporter": "python",
   "pygments_lexer": "ipython3",
   "version": "3.9.7"
  }
 },
 "nbformat": 4,
 "nbformat_minor": 5
}
