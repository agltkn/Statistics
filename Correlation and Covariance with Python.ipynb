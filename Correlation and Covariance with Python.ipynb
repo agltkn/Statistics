{
 "cells": [
  {
   "cell_type": "code",
   "execution_count": 1,
   "id": "72c0e875",
   "metadata": {},
   "outputs": [],
   "source": [
    "import numpy as np\n",
    "\n",
    "temp=[93,84,82,78,98,70]\n",
    "\n",
    "number_of_people=[13,10, 11, 8, 15, 9]"
   ]
  },
  {
   "cell_type": "code",
   "execution_count": 2,
   "id": "eae5cc0c",
   "metadata": {},
   "outputs": [],
   "source": [
    "covariance = np.cov(temp, number_of_people)"
   ]
  },
  {
   "cell_type": "code",
   "execution_count": 3,
   "id": "942db4c7",
   "metadata": {},
   "outputs": [],
   "source": [
    "correlation = np.corrcoef(temp, number_of_people)"
   ]
  },
  {
   "cell_type": "code",
   "execution_count": 4,
   "id": "fb2b2c2a",
   "metadata": {},
   "outputs": [
    {
     "name": "stdout",
     "output_type": "stream",
     "text": [
      "covariance : [[102.56666667  24.        ]\n",
      " [ 24.           6.8       ]]\n"
     ]
    }
   ],
   "source": [
    "print(\"covariance :\", covariance)"
   ]
  },
  {
   "cell_type": "code",
   "execution_count": 5,
   "id": "1a847e96",
   "metadata": {},
   "outputs": [
    {
     "name": "stdout",
     "output_type": "stream",
     "text": [
      "correlation : [[1.         0.90876934]\n",
      " [0.90876934 1.        ]]\n"
     ]
    }
   ],
   "source": [
    "print(\"correlation :\", correlation)"
   ]
  },
  {
   "cell_type": "code",
   "execution_count": null,
   "id": "91715f3f",
   "metadata": {},
   "outputs": [],
   "source": []
  }
 ],
 "metadata": {
  "kernelspec": {
   "display_name": "Python 3 (ipykernel)",
   "language": "python",
   "name": "python3"
  },
  "language_info": {
   "codemirror_mode": {
    "name": "ipython",
    "version": 3
   },
   "file_extension": ".py",
   "mimetype": "text/x-python",
   "name": "python",
   "nbconvert_exporter": "python",
   "pygments_lexer": "ipython3",
   "version": "3.9.7"
  }
 },
 "nbformat": 4,
 "nbformat_minor": 5
}
