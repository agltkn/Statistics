{
 "cells": [
  {
   "cell_type": "code",
   "execution_count": 1,
   "id": "72c0e875",
   "metadata": {},
   "outputs": [],
   "source": [
    "import numpy as np\n",
    "\n",
    "temp=[93,84,82,78,98,70]\n",
    "\n",
    "number_of_people=[13,10, 11, 8, 15, 9]"
   ]
  },
  {
   "cell_type": "code",
   "execution_count": 2,
   "id": "eae5cc0c",
   "metadata": {},
   "outputs": [],
   "source": [
    "covariance = np.cov(temp, number_of_people)"
   ]
  },
  {
   "cell_type": "code",
   "execution_count": 3,
   "id": "942db4c7",
   "metadata": {},
   "outputs": [],
   "source": [
    "correlation = np.corrcoef(temp, number_of_people)"
   ]
  },
  {
   "cell_type": "code",
   "execution_count": 4,
   "id": "fb2b2c2a",
   "metadata": {},
   "outputs": [
    {
     "name": "stdout",
     "output_type": "stream",
     "text": [
      "covariance : [[102.56666667  24.        ]\n",
      " [ 24.           6.8       ]]\n"
     ]
    }
   ],
   "source": [
    "print(\"covariance :\", covariance)"
   ]
  },
  {
   "cell_type": "code",
   "execution_count": 5,
   "id": "1a847e96",
   "metadata": {},
   "outputs": [
    {
     "name": "stdout",
     "output_type": "stream",
     "text": [
      "correlation : [[1.         0.90876934]\n",
      " [0.90876934 1.        ]]\n"
     ]
    }
   ],
   "source": [
    "print(\"correlation :\", correlation)"
   ]
  },
  {
   "cell_type": "code",
   "execution_count": 7,
   "id": "91715f3f",
   "metadata": {},
   "outputs": [],
   "source": [
    "x = [13, 15, 7, 3, 10, 27]"
   ]
  },
  {
   "cell_type": "code",
   "execution_count": 8,
   "id": "31cbcdf1",
   "metadata": {},
   "outputs": [],
   "source": [
    "y = [53, 69, 92, 10, 85, 99]"
   ]
  },
  {
   "cell_type": "code",
   "execution_count": 11,
   "id": "21b7554b",
   "metadata": {},
   "outputs": [],
   "source": [
    "cor = np.corrcoef(x ,y)"
   ]
  },
  {
   "cell_type": "code",
   "execution_count": 12,
   "id": "a05a9c9f",
   "metadata": {},
   "outputs": [
    {
     "name": "stdout",
     "output_type": "stream",
     "text": [
      "[[1.         0.60192233]\n",
      " [0.60192233 1.        ]]\n"
     ]
    }
   ],
   "source": [
    "print(cor)"
   ]
  },
  {
   "cell_type": "code",
   "execution_count": 13,
   "id": "8ffd1cfb",
   "metadata": {},
   "outputs": [],
   "source": [
    "var = np.var(x)"
   ]
  },
  {
   "cell_type": "code",
   "execution_count": 14,
   "id": "65ebedeb",
   "metadata": {},
   "outputs": [
    {
     "data": {
      "text/plain": [
       "57.25"
      ]
     },
     "execution_count": 14,
     "metadata": {},
     "output_type": "execute_result"
    }
   ],
   "source": [
    "var"
   ]
  },
  {
   "cell_type": "code",
   "execution_count": 15,
   "id": "4b1c6acf",
   "metadata": {},
   "outputs": [
    {
     "data": {
      "text/plain": [
       "12.5"
      ]
     },
     "execution_count": 15,
     "metadata": {},
     "output_type": "execute_result"
    }
   ],
   "source": [
    "np.mean(x)"
   ]
  },
  {
   "cell_type": "code",
   "execution_count": 16,
   "id": "7f7afd7c",
   "metadata": {},
   "outputs": [
    {
     "data": {
      "text/plain": [
       "7.566372975210778"
      ]
     },
     "execution_count": 16,
     "metadata": {},
     "output_type": "execute_result"
    }
   ],
   "source": [
    "np.std(x)"
   ]
  },
  {
   "cell_type": "code",
   "execution_count": 17,
   "id": "2508c294",
   "metadata": {},
   "outputs": [
    {
     "data": {
      "text/plain": [
       "30.044411571316665"
      ]
     },
     "execution_count": 17,
     "metadata": {},
     "output_type": "execute_result"
    }
   ],
   "source": [
    "np.std(y)"
   ]
  },
  {
   "cell_type": "code",
   "execution_count": null,
   "id": "af51aedf",
   "metadata": {},
   "outputs": [],
   "source": []
  }
 ],
 "metadata": {
  "kernelspec": {
   "display_name": "Python 3 (ipykernel)",
   "language": "python",
   "name": "python3"
  },
  "language_info": {
   "codemirror_mode": {
    "name": "ipython",
    "version": 3
   },
   "file_extension": ".py",
   "mimetype": "text/x-python",
   "name": "python",
   "nbconvert_exporter": "python",
   "pygments_lexer": "ipython3",
   "version": "3.9.7"
  }
 },
 "nbformat": 4,
 "nbformat_minor": 5
}
